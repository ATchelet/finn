{
 "cells": [
  {
   "cell_type": "code",
   "execution_count": null,
   "id": "4a6efc0c",
   "metadata": {},
   "outputs": [],
   "source": [
    "%load_ext autoreload\n",
    "%autoreload 2"
   ]
  },
  {
   "cell_type": "code",
   "execution_count": null,
   "id": "58d0c619",
   "metadata": {},
   "outputs": [],
   "source": [
    "import numpy as np\n",
    "import torch\n",
    "from qYOLO.qyolo import QTinyYOLOv2"
   ]
  },
  {
   "cell_type": "code",
   "execution_count": null,
   "id": "4c589de0",
   "metadata": {},
   "outputs": [],
   "source": [
    "img_dir = \"./../../Dataset/images\"\n",
    "lbl_dir = \"./../../Dataset/labels\"\n",
    "weight_bit_width = 8\n",
    "act_bit_width    = 8\n",
    "n_anchors        = 5\n",
    "anchors = torch.tensor([[0.0324, 0.0795],\n",
    "                        [0.1175, 0.4245],\n",
    "                        [0.0578, 0.1505],\n",
    "                        [0.0634, 0.2507],\n",
    "                        [0.1811, 0.2212]])\n",
    "n_epochs         = 10\n",
    "batch_size       = 1\n",
    "\n",
    "net = QTinyYOLOv2(n_anchors, weight_bit_width, act_bit_width)\n",
    "net_path = f'/home/atchelet/git/finn_at/notebooks/MScThesis/train_out/trained_net_W8A8_a5.pth'\n",
    "net.load_state_dict(torch.load(net_path))"
   ]
  }
 ],
 "metadata": {
  "kernelspec": {
   "display_name": "Python 3",
   "language": "python",
   "name": "python3"
  },
  "language_info": {
   "codemirror_mode": {
    "name": "ipython",
    "version": 3
   },
   "file_extension": ".py",
   "mimetype": "text/x-python",
   "name": "python",
   "nbconvert_exporter": "python",
   "pygments_lexer": "ipython3",
   "version": "3.8.8"
  }
 },
 "nbformat": 4,
 "nbformat_minor": 5
}
