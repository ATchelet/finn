{
 "cells": [
  {
   "cell_type": "code",
   "execution_count": null,
   "id": "4a6efc0c",
   "metadata": {},
   "outputs": [],
   "source": [
    "%load_ext autoreload\n",
    "%autoreload 2"
   ]
  },
  {
   "cell_type": "code",
   "execution_count": null,
   "id": "58d0c619",
   "metadata": {},
   "outputs": [],
   "source": [
    "import numpy as np\n",
    "import torch\n",
    "from qYOLO.qyolo import train"
   ]
  },
  {
   "cell_type": "code",
   "execution_count": null,
   "id": "4c589de0",
   "metadata": {
    "scrolled": true
   },
   "outputs": [],
   "source": [
    "img_dir = \"./../../Dataset/images\"\n",
    "lbl_dir = \"./../../Dataset/labels\"\n",
    "weight_bit_width = 8\n",
    "act_bit_width    = 8\n",
    "n_anchors        = 5\n",
    "anchors = torch.tensor([[0.03240000,  0.07950000],\n",
    "                        [0.11750000,  0.42449999],\n",
    "                        [0.05780000,  0.15050000],\n",
    "                        [0.06340000,  0.25070000],\n",
    "                        [0.18110000,  0.22120000]])\n",
    "n_epochs         = 10\n",
    "batch_size       = 1\n",
    "\n",
    "train(\n",
    "    img_dir,\n",
    "    lbl_dir,\n",
    "    weight_bit_width=weight_bit_width,\n",
    "    act_bit_width=act_bit_width,\n",
    "    anchors=anchors,\n",
    "    n_anchors=n_anchors,\n",
    "    n_epochs=n_epochs,\n",
    "    batch_size=batch_size,\n",
    "    len_lim=50,\n",
    "    img_samples=6,\n",
    "    quantized=True,\n",
    ")"
   ]
  }
 ],
 "metadata": {
  "kernelspec": {
   "display_name": "Python 3",
   "language": "python",
   "name": "python3"
  },
  "language_info": {
   "codemirror_mode": {
    "name": "ipython",
    "version": 3
   },
   "file_extension": ".py",
   "mimetype": "text/x-python",
   "name": "python",
   "nbconvert_exporter": "python",
   "pygments_lexer": "ipython3",
   "version": "3.8.5"
  }
 },
 "nbformat": 4,
 "nbformat_minor": 5
}
