{
 "cells": [
  {
   "cell_type": "markdown",
   "metadata": {},
   "source": [
    "# Imports"
   ]
  },
  {
   "cell_type": "code",
   "execution_count": null,
   "metadata": {},
   "outputs": [],
   "source": [
    "import os\n",
    "import numpy as np\n",
    "import torch\n",
    "from qYOLO.qyolo import QTinyYOLOv2, YOLOout, readAnchors"
   ]
  },
  {
   "cell_type": "markdown",
   "metadata": {},
   "source": [
    "# Import Network"
   ]
  },
  {
   "cell_type": "markdown",
   "metadata": {},
   "source": [
    "> pretrained = True<br>\n",
    "img_dir = \"./../../Dataset/images\"<br>\n",
    "lbl_dir = \"./../../Dataset/labels\"<br>\n",
    "weight_bit_width = 8<br>\n",
    "act_bit_width    = 8<br>\n",
    "n_anchors        = 5<br>\n",
    "n_epochs         = 10<br>\n",
    "batch_size       = 10<br>\n",
    "\n",
    "> net = QTinyYOLOv2(n_anchors, weight_bit_width, act_bit_width)<br>\n",
    "if pretrained:<br>\n",
    "    net_path = f\"./train_out/trained_net_W{weight_bit_width}A{act_bit_width}_a{n_anchors}.pth\"<br>\n",
    "    net.load_state_dict(torch.load(net_path))<br>\n",
    "    anchors_path = f\"./anchors_W{weight_bit_width}A{act_bit_width}_a{n_anchors}.txt\"<br>\n",
    "    anchors = torch.zeros((n_anchors, 2))<br>\n",
    "    with open(anchors_path) as f:<br>\n",
    "        for n, data in enumerate(f.readlines()):<br>\n",
    "            anchors[n] = torch.from_numpy(np.array(data.split(',')).astype(float))<br>\n",
    "        f.close()<br>\n",
    "else:<br>\n",
    "    net, anchors = train(img_dir, lbl_dir, weight_bit_width=weight_bit_width, act_bit_width=act_bit_width, n_anchors=n_anchors, n_epochs=n_epochs, batch_size=batch_size)"
   ]
  },
  {
   "cell_type": "code",
   "execution_count": null,
   "metadata": {},
   "outputs": [],
   "source": [
    "img_dir = \"./../../Dataset/images\"\n",
    "lbl_dir = \"./../../Dataset/labels\"\n",
    "weight_bit_width = 8\n",
    "act_bit_width    = 8\n",
    "n_anchors        = 5\n",
    "# anchors = torch.tensor([[0.03240000,  0.07950000],\n",
    "#                         [0.11750000,  0.42449999],\n",
    "#                         [0.05780000,  0.15050000],\n",
    "#                         [0.06340000,  0.25070000],\n",
    "#                         [0.18110000,  0.22120000]])\n",
    "n_epochs         = 10\n",
    "batch_size       = 1\n",
    "\n",
    "anchors = readAnchors(f'./../../train_out/anchors_W8A8_a5.txt')\n",
    "print(anchors)\n",
    "net = QTinyYOLOv2(n_anchors, weight_bit_width, act_bit_width)\n",
    "net_path = f'./../../train_out/trained_net_W8A8_a5.pth'\n",
    "net.load_state_dict(torch.load(net_path))"
   ]
  },
  {
   "cell_type": "markdown",
   "metadata": {},
   "source": [
    "# FINN"
   ]
  },
  {
   "cell_type": "markdown",
   "metadata": {},
   "source": [
    "## Imports"
   ]
  },
  {
   "cell_type": "code",
   "execution_count": null,
   "metadata": {},
   "outputs": [],
   "source": [
    "# FINN-Brevitas imports\n",
    "from brevitas.export.onnx.generic.manager import BrevitasONNXManager\n",
    "import brevitas.onnx as bo\n",
    "\n",
    "# ONNX libraries\n",
    "import onnx\n",
    "import onnx.numpy_helper as nph\n",
    "import onnxruntime as rt\n",
    "\n",
    "# Network display methods - Netron\n",
    "from finn.util.visualization import showInNetron\n",
    "\n",
    "# FINN Network Preperation imports\n",
    "from finn.core.modelwrapper import ModelWrapper\n",
    "from qonnx.util.cleanup import cleanup_model\n",
    "from finn.transformation.qonnx.convert_qonnx_to_finn import ConvertQONNXtoFINN\n",
    "from finn.transformation.general import GiveUniqueNodeNames\n",
    "from finn.util.pytorch import ToTensor\n",
    "from finn.transformation.merge_onnx_models import MergeONNXModels\n",
    "from finn.core.datatype import DataType\n",
    "from finn.transformation.insert_topk import InsertTopK\n",
    "from finn.transformation.streamline import Streamline\n",
    "from finn.transformation.lower_convs_to_matmul import LowerConvsToMatMul\n",
    "import finn.transformation.streamline.absorb as absorb\n",
    "from finn.transformation.streamline.reorder import MakeMaxPoolNHWC, MoveScalarLinearPastInvariants\n",
    "from finn.transformation.infer_data_layouts import InferDataLayouts\n",
    "from finn.transformation.general import RemoveUnusedTensors\n",
    "from finn.transformation.move_reshape import RemoveCNVtoFCFlatten\n",
    "import finn.transformation.fpgadataflow.convert_to_hls_layers as to_hls\n",
    "from finn.transformation.fpgadataflow.create_dataflow_partition import CreateDataflowPartition\n",
    "from finn.custom_op.registry import getCustomOp"
   ]
  },
  {
   "cell_type": "markdown",
   "metadata": {},
   "source": [
    "## Brevitas Export"
   ]
  },
  {
   "cell_type": "code",
   "execution_count": null,
   "metadata": {
    "scrolled": false
   },
   "outputs": [],
   "source": [
    "onnx_dir = f'./onnx_W{weight_bit_width}A{act_bit_width}_a{n_anchors}/'\n",
    "os.makedirs(onnx_dir, exist_ok=True)\n",
    "\n",
    "# BrevitasONNXManager.export(net, (1, 3, 360, 640), onnx_dir + \"og_net.onnx\")\n",
    "bo.export_finn_onnx(net, (1, 3, 360, 640), onnx_dir + \"og_net.onnx\")\n",
    "\n",
    "model = ModelWrapper(onnx_dir + \"og_net.onnx\")\n",
    "model = cleanup_model(model)\n",
    "model = model.transform(ConvertQONNXtoFINN())\n",
    "\n",
    "model.save(onnx_dir + \"tidy_net.onnx\")\n",
    "showInNetron(onnx_dir + \"tidy_net.onnx\")"
   ]
  },
  {
   "cell_type": "markdown",
   "metadata": {},
   "source": [
    "## Networks Preperation"
   ]
  },
  {
   "cell_type": "markdown",
   "metadata": {},
   "source": [
    "### Original"
   ]
  },
  {
   "cell_type": "markdown",
   "metadata": {},
   "source": [
    "### Add Pre/Post-Processing"
   ]
  },
  {
   "cell_type": "code",
   "execution_count": null,
   "metadata": {},
   "outputs": [],
   "source": [
    "model = ModelWrapper(onnx_dir + \"tidy_net.onnx\")\n",
    "\n",
    "# pre-processing\n",
    "in_name = model.graph.input[0].name\n",
    "in_shape = model.get_tensor_shape(in_name)\n",
    "totensor = ToTensor()\n",
    "BrevitasONNXManager.export(totensor, in_shape, f\"./onnx_W{weight_bit_width}A{act_bit_width}_a{n_anchors}/preproc_net.onnx\")\n",
    "pre_model = ModelWrapper(f\"./onnx_W{weight_bit_width}A{act_bit_width}_a{n_anchors}/preproc_net.onnx\")\n",
    "model = model.transform(MergeONNXModels(pre_model))\n",
    "in_name = model.graph.input[0].name\n",
    "model.set_tensor_datatype(in_name, DataType[\"UINT8\"])\n",
    "\n",
    "# post-processing\n",
    "# TODO - check if I can actually create the output layer\n",
    "model = cleanup_model(model)\n",
    "model = model.transform(ConvertQONNXtoFINN())\n",
    "\n",
    "model.save(onnx_dir + \"preproc_net.onnx\")\n",
    "showInNetron(onnx_dir + \"preproc_net.onnx\")"
   ]
  },
  {
   "cell_type": "markdown",
   "metadata": {},
   "source": [
    "## Streamline"
   ]
  },
  {
   "cell_type": "code",
   "execution_count": null,
   "metadata": {},
   "outputs": [],
   "source": []
  }
 ],
 "metadata": {
  "interpreter": {
   "hash": "ed3c3c042c7159f453cb0b4f2ad1cdbcb01beb1ec4544025c53e7eb3664cf9f0"
  },
  "kernelspec": {
   "display_name": "Python 3",
   "language": "python",
   "name": "python3"
  },
  "language_info": {
   "codemirror_mode": {
    "name": "ipython",
    "version": 3
   },
   "file_extension": ".py",
   "mimetype": "text/x-python",
   "name": "python",
   "nbconvert_exporter": "python",
   "pygments_lexer": "ipython3",
   "version": "3.8.5"
  }
 },
 "nbformat": 4,
 "nbformat_minor": 2
}
