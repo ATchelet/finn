{
 "cells": [
  {
   "cell_type": "markdown",
   "metadata": {},
   "source": [
    "# Imports"
   ]
  },
  {
   "cell_type": "code",
   "execution_count": 7,
   "metadata": {},
   "outputs": [],
   "source": [
    "import numpy as np\n",
    "import torch\n",
    "from qYOLO.module import QTinyYOLOv2\n",
    "from qYOLO.train import train, YOLOout"
   ]
  },
  {
   "cell_type": "markdown",
   "metadata": {},
   "source": [
    "# Import/Train Network"
   ]
  },
  {
   "cell_type": "code",
   "execution_count": 15,
   "metadata": {},
   "outputs": [
    {
     "name": "stdout",
     "output_type": "stream",
     "text": [
      "tensor([0.9000, 0.4000])\n",
      "tensor([0.8000, 0.9000])\n",
      "tensor([0.1000, 0.2000])\n",
      "tensor([0.5000, 0.7000])\n",
      "tensor([0.4000, 0.3000])\n",
      "torch.Size([5, 2]) tensor([[0.9000, 0.4000],\n",
      "        [0.8000, 0.9000],\n",
      "        [0.1000, 0.2000],\n",
      "        [0.5000, 0.7000],\n",
      "        [0.4000, 0.3000]])\n"
     ]
    }
   ],
   "source": [
    "pretrained = True\n",
    "img_dir = \"/srv/cdl-eml/User/atchelet/Dataset/images\"\n",
    "lbl_dir = \"/srv/cdl-eml/User/atchelet/Dataset/labels\"\n",
    "weight_bit_width = 1\n",
    "act_bit_width    = 3\n",
    "n_anchors        = 5\n",
    "n_epochs         = 100\n",
    "batch_size       = 32\n",
    "\n",
    "net = QTinyYOLOv2(n_anchors, weight_bit_width, act_bit_width)\n",
    "if pretrained:\n",
    "    net_path = f\"./trained_net_W{weight_bit_width}A{act_bit_width}_a{n_anchors}.pth\"\n",
    "    net.load_state_dict(torch.load(net_path))\n",
    "    anchors_path = f\"./anchors_W{weight_bit_width}A{act_bit_width}_a{n_anchors}.txt\"\n",
    "    anchors = torch.zeros((n_anchors, 2))\n",
    "    with open(anchors_path) as f:\n",
    "        for n, data in enumerate(f.readlines()):\n",
    "            anchors[n] = torch.from_numpy(np.array(data.split(',')).astype(float))\n",
    "        f.close()\n",
    "else:\n",
    "    net, anchors = train(img_dir, lbl_dir, weight_bit_width=weight_bit_width, act_bit_width=act_bit_width, n_anchors=n_anchors, n_epochs=n_epochs, batch_size=batch_size)"
   ]
  },
  {
   "cell_type": "markdown",
   "metadata": {},
   "source": [
    "# FINN"
   ]
  },
  {
   "cell_type": "markdown",
   "metadata": {},
   "source": [
    "## Imports"
   ]
  },
  {
   "cell_type": "code",
   "execution_count": null,
   "metadata": {},
   "outputs": [],
   "source": [
    "# FINN-Brevitas imports\n",
    "from brevitas.export.onnx.generic.manager import BrevitasONNXManager\n",
    "\n",
    "# ONNX libraries\n",
    "import onnx\n",
    "import onnx.numpy_helper as nph\n",
    "import onnxruntime as rt\n",
    "\n",
    "# Network display methods - Netron\n",
    "from finn.util.visualization import showInNetron\n",
    "\n",
    "# FINN Network Preperation imports\n",
    "from finn.core.modelwrapper import ModelWrapper\n",
    "from qonnx.util.cleanup import cleanup_model\n",
    "from finn.transformation.qonnx.convert_qonnx_to_finn import ConvertQONNXtoFINN\n",
    "from finn.transformation.general import GiveUniqueNodeNames\n",
    "from finn.util.pytorch import ToTensor\n",
    "from finn.transformation.merge_onnx_models import MergeONNXModels\n",
    "from finn.core.datatype import DataType\n",
    "from finn.transformation.insert_topk import InsertTopK\n",
    "from finn.transformation.streamline import Streamline\n",
    "from finn.transformation.lower_convs_to_matmul import LowerConvsToMatMul\n",
    "import finn.transformation.streamline.absorb as absorb\n",
    "from finn.transformation.streamline.reorder import MakeMaxPoolNHWC, MoveScalarLinearPastInvariants\n",
    "from finn.transformation.infer_data_layouts import InferDataLayouts\n",
    "from finn.transformation.general import RemoveUnusedTensors\n",
    "from finn.transformation.move_reshape import RemoveCNVtoFCFlatten\n",
    "import finn.transformation.fpgadataflow.convert_to_hls_layers as to_hls\n",
    "from finn.transformation.fpgadataflow.create_dataflow_partition import CreateDataflowPartition\n",
    "from finn.custom_op.registry import getCustomOp"
   ]
  },
  {
   "cell_type": "markdown",
   "metadata": {},
   "source": [
    "## Brevitas Export"
   ]
  },
  {
   "cell_type": "code",
   "execution_count": null,
   "metadata": {},
   "outputs": [],
   "source": [
    "onnx_export_path = f\"./onnx_W{weight_bit_width}A{act_bit_width}_a{n_anchors}/og_net.onnx\"\n",
    "BrevitasONNXManager.export(net, (1, 3, 360, 640), onnx_export_path)"
   ]
  },
  {
   "cell_type": "markdown",
   "metadata": {},
   "source": [
    "## Networks Preperation"
   ]
  },
  {
   "cell_type": "markdown",
   "metadata": {},
   "source": [
    "### Original"
   ]
  },
  {
   "cell_type": "code",
   "execution_count": null,
   "metadata": {},
   "outputs": [],
   "source": [
    "model = ModelWrapper(f\"./onnx_W{weight_bit_width}A{act_bit_width}_a{n_anchors}/og_net.onnx\")\n",
    "model = cleanup_model(model)\n",
    "model = model.transform(ConvertQONNXtoFINN())\n",
    "\n",
    "model.save(f\"./onnx_W{weight_bit_width}A{act_bit_width}_a{n_anchors}/tidy_net.onnx\")\n",
    "showInNetron(f\"./onnx_W{weight_bit_width}A{act_bit_width}_a{n_anchors}/tidy_net.onnx\")"
   ]
  },
  {
   "cell_type": "markdown",
   "metadata": {},
   "source": [
    "### Add Pre/Post-Processing"
   ]
  },
  {
   "cell_type": "code",
   "execution_count": null,
   "metadata": {},
   "outputs": [],
   "source": [
    "model = ModelWrapper(f\"./onnx_W{weight_bit_width}A{act_bit_width}_a{n_anchors}/tidy_net.onnx\")\n",
    "\n",
    "# pre-processing\n",
    "in_name = model.graph.input[0].name\n",
    "in_shape = model.get_tensor_shape(in_name)\n",
    "totensor = ToTensor()\n",
    "BrevitasONNXManager.export(totensor, in_shape, f\"./onnx_W{weight_bit_width}A{act_bit_width}_a{n_anchors}/preproc_net.onnx\")\n",
    "pre_model = ModelWrapper(f\"./onnx_W{weight_bit_width}A{act_bit_width}_a{n_anchors}/preproc_net.onnx\")\n",
    "model = model.transform(MergeONNXModels(pre_model))\n",
    "in_name = model.graph.input[0].name\n",
    "model.set_tensor_datatype(in_name, DataType[\"UINT8\"])\n",
    "\n",
    "# post-processing\n",
    "model = model.transform(InsertTopK(k=1))\n",
    "model = cleanup_model(model)\n",
    "model = model.transform(ConvertQONNXtoFINN())\n",
    "\n",
    "model.save(f\"./onnx/{lenets_names[net_n]}_pre_post.onnx\")\n",
    "if toDisplay:\n",
    "    showInNetron(f\"./onnx/{lenets_names[net_n]}_pre_post.onnx\")"
   ]
  }
 ],
 "metadata": {
  "interpreter": {
   "hash": "ed3c3c042c7159f453cb0b4f2ad1cdbcb01beb1ec4544025c53e7eb3664cf9f0"
  },
  "kernelspec": {
   "display_name": "Python 3",
   "language": "python",
   "name": "python3"
  },
  "language_info": {
   "codemirror_mode": {
    "name": "ipython",
    "version": 3
   },
   "file_extension": ".py",
   "mimetype": "text/x-python",
   "name": "python",
   "nbconvert_exporter": "python",
   "pygments_lexer": "ipython3",
   "version": "3.8.8"
  }
 },
 "nbformat": 4,
 "nbformat_minor": 2
}
