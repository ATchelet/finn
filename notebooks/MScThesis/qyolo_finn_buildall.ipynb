{
 "cells": [
  {
   "cell_type": "markdown",
   "metadata": {},
   "source": [
    "# Imports"
   ]
  },
  {
   "cell_type": "code",
   "execution_count": null,
   "metadata": {},
   "outputs": [],
   "source": [
    "! pip3 install scikit-image\n",
    "! pip3 install tensorboard\n",
    "! pip3 install kmeans-pytorch==0.3"
   ]
  },
  {
   "cell_type": "code",
   "execution_count": null,
   "metadata": {},
   "outputs": [],
   "source": [
    "import os\n",
    "import shutil\n",
    "import numpy as np\n",
    "import torch\n",
    "from qYOLO.qyolo import readAnchors"
   ]
  },
  {
   "cell_type": "code",
   "execution_count": null,
   "metadata": {},
   "outputs": [],
   "source": [
    "# FINN-Brevitas imports\n",
    "from brevitas.onnx import export_brevitas_onnx as exportONNX\n",
    "\n",
    "# Network display methods - Netron\n",
    "from finn.util.visualization import showInNetron\n",
    "\n",
    "# FINN imports\n",
    "from finn.core.modelwrapper import ModelWrapper\n",
    "from finn.builder.build_dataflow import DataflowBuildConfig, build_dataflow_cfg\n",
    "from finn.transformation.fpgadataflow.make_deployment import DeployToPYNQ\n",
    "import finn.builder.build_dataflow_config as build_cfg"
   ]
  },
  {
   "cell_type": "markdown",
   "metadata": {},
   "source": [
    "# FINN"
   ]
  },
  {
   "cell_type": "markdown",
   "metadata": {},
   "source": [
    "## Configs"
   ]
  },
  {
   "cell_type": "code",
   "execution_count": null,
   "metadata": {},
   "outputs": [],
   "source": [
    "testset_dir = \"/workspace/finn/Dataset/Testset/\"\n",
    "validate_py = \"/workspace/finn/notebooks/MScThesis/qYOLO/verify_yolo.py\"\n",
    "n_anchors        = 5\n",
    "auto_fifo_depths = True\n",
    "board            = \"ZCU102\"\n",
    "fpga_part        = \"xczu9eg-ffvb1156-2-e\"  \n",
    "clk_ns           = 5.0\n",
    "target_fps       = 50\n",
    "mvau_wwidth_max  = 10000\n",
    "default_mem_mode = 'constant' # 'constant' or 'decoupled'\n",
    "\n",
    "# anchors = readAnchors(f'./../../train_out/5_anchors_first_500.txt')\n",
    "# print(anchors)"
   ]
  },
  {
   "cell_type": "markdown",
   "metadata": {},
   "source": [
    "## Build"
   ]
  },
  {
   "cell_type": "markdown",
   "metadata": {},
   "source": [
    "### W1A3"
   ]
  },
  {
   "cell_type": "code",
   "execution_count": null,
   "metadata": {},
   "outputs": [],
   "source": [
    "net_onnx_path = f'/workspace/finn/train_out/trained_net_W1A3_a5.onnx'\n",
    "out_dir = f\"./onnx_W1A3_a5\"\n",
    "#Delete previous run results if exist\n",
    "if os.path.exists(out_dir):\n",
    "    shutil.rmtree(out_dir)\n",
    "    print(\"Previous run results deleted!\")\n",
    "\n",
    "cfg_build = DataflowBuildConfig(auto_fifo_depths=auto_fifo_depths, \n",
    "                                board=board,\n",
    "                                fpga_part=fpga_part, \n",
    "                                mvau_wwidth_max=mvau_wwidth_max,\n",
    "                                synth_clk_period_ns= clk_ns, \n",
    "                                target_fps=target_fps,\n",
    "                                output_dir=out_dir,\n",
    "                                shell_flow_type=build_cfg.ShellFlowType.VIVADO_ZYNQ,\n",
    "                                generate_outputs=[build_cfg.DataflowOutputType.BITFILE,\n",
    "                                                  build_cfg.DataflowOutputType.PYNQ_DRIVER,\n",
    "                                                  build_cfg.DataflowOutputType.DEPLOYMENT_PACKAGE])\n",
    "build_dataflow_cfg(net_onnx_path, cfg_build)"
   ]
  },
  {
   "cell_type": "markdown",
   "metadata": {},
   "source": [
    "### W3A3"
   ]
  },
  {
   "cell_type": "code",
   "execution_count": null,
   "metadata": {},
   "outputs": [],
   "source": [
    "net_onnx_path = f'/workspace/finn/train_out/trained_net_W3A3_a5.onnx'\n",
    "out_dir = f\"./onnx_W3A3_a5\"\n",
    "#Delete previous run results if exist\n",
    "if os.path.exists(out_dir):\n",
    "    shutil.rmtree(out_dir)\n",
    "    print(\"Previous run results deleted!\")\n",
    "\n",
    "cfg_build = DataflowBuildConfig(auto_fifo_depths=auto_fifo_depths, \n",
    "                                board=board,\n",
    "                                fpga_part=fpga_part, \n",
    "                                mvau_wwidth_max=mvau_wwidth_max,\n",
    "                                synth_clk_period_ns= clk_ns, \n",
    "                                target_fps=target_fps,\n",
    "                                output_dir=out_dir,\n",
    "                                shell_flow_type=build_cfg.ShellFlowType.VIVADO_ZYNQ,\n",
    "                                generate_outputs=[build_cfg.DataflowOutputType.BITFILE,\n",
    "                                                  build_cfg.DataflowOutputType.PYNQ_DRIVER,\n",
    "                                                  build_cfg.DataflowOutputType.DEPLOYMENT_PACKAGE])\n",
    "build_dataflow_cfg(net_onnx_path, cfg_build)"
   ]
  },
  {
   "cell_type": "markdown",
   "metadata": {},
   "source": [
    "### W2A4"
   ]
  },
  {
   "cell_type": "code",
   "execution_count": null,
   "metadata": {},
   "outputs": [],
   "source": [
    "net_onnx_path = f'/workspace/finn/train_out/trained_net_W2A4_a5.onnx'\n",
    "out_dir = f\"./onnx_W2A4_a5\"\n",
    "#Delete previous run results if exist\n",
    "if os.path.exists(out_dir):\n",
    "    shutil.rmtree(out_dir)\n",
    "    print(\"Previous run results deleted!\")\n",
    "\n",
    "cfg_build = DataflowBuildConfig(auto_fifo_depths=auto_fifo_depths, \n",
    "                                board=board,\n",
    "                                fpga_part=fpga_part, \n",
    "                                mvau_wwidth_max=mvau_wwidth_max,\n",
    "                                synth_clk_period_ns= clk_ns, \n",
    "                                target_fps=target_fps,\n",
    "                                output_dir=out_dir,\n",
    "                                shell_flow_type=build_cfg.ShellFlowType.VIVADO_ZYNQ,\n",
    "                                generate_outputs=[build_cfg.DataflowOutputType.BITFILE,\n",
    "                                                  build_cfg.DataflowOutputType.PYNQ_DRIVER,\n",
    "                                                  build_cfg.DataflowOutputType.DEPLOYMENT_PACKAGE])\n",
    "build_dataflow_cfg(net_onnx_path, cfg_build)"
   ]
  },
  {
   "cell_type": "markdown",
   "metadata": {},
   "source": [
    "### W4A4"
   ]
  },
  {
   "cell_type": "code",
   "execution_count": null,
   "metadata": {},
   "outputs": [],
   "source": [
    "net_onnx_path = f'/workspace/finn/train_out/trained_net_W4A4_a5.onnx'\n",
    "out_dir = f\"./onnx_W4A4_a5\"\n",
    "#Delete previous run results if exist\n",
    "if os.path.exists(out_dir):\n",
    "    shutil.rmtree(out_dir)\n",
    "    print(\"Previous run results deleted!\")\n",
    "\n",
    "cfg_build = DataflowBuildConfig(auto_fifo_depths=auto_fifo_depths, \n",
    "                                board=board,\n",
    "                                fpga_part=fpga_part, \n",
    "                                mvau_wwidth_max=mvau_wwidth_max,\n",
    "                                synth_clk_period_ns= clk_ns, \n",
    "                                target_fps=target_fps,\n",
    "                                output_dir=out_dir,\n",
    "                                shell_flow_type=build_cfg.ShellFlowType.VIVADO_ZYNQ,\n",
    "                                generate_outputs=[build_cfg.DataflowOutputType.BITFILE,\n",
    "                                                  build_cfg.DataflowOutputType.PYNQ_DRIVER,\n",
    "                                                  build_cfg.DataflowOutputType.DEPLOYMENT_PACKAGE])\n",
    "build_dataflow_cfg(net_onnx_path, cfg_build)"
   ]
  },
  {
   "cell_type": "markdown",
   "metadata": {},
   "source": [
    "### W4A8"
   ]
  },
  {
   "cell_type": "code",
   "execution_count": null,
   "metadata": {},
   "outputs": [],
   "source": [
    "net_onnx_path = f'/workspace/finn/train_out/trained_net_W4A8_a5.onnx'\n",
    "out_dir = f\"./onnx_W4A8_a5\"\n",
    "#Delete previous run results if exist\n",
    "if os.path.exists(out_dir):\n",
    "    shutil.rmtree(out_dir)\n",
    "    print(\"Previous run results deleted!\")\n",
    "\n",
    "cfg_build = DataflowBuildConfig(auto_fifo_depths=auto_fifo_depths, \n",
    "                                board=board,\n",
    "                                fpga_part=fpga_part, \n",
    "                                mvau_wwidth_max=mvau_wwidth_max,\n",
    "                                synth_clk_period_ns= clk_ns, \n",
    "                                target_fps=target_fps,\n",
    "                                output_dir=out_dir,\n",
    "                                shell_flow_type=build_cfg.ShellFlowType.VIVADO_ZYNQ,\n",
    "                                generate_outputs=[build_cfg.DataflowOutputType.BITFILE,\n",
    "                                                  build_cfg.DataflowOutputType.PYNQ_DRIVER,\n",
    "                                                  build_cfg.DataflowOutputType.DEPLOYMENT_PACKAGE])\n",
    "build_dataflow_cfg(net_onnx_path, cfg_build)"
   ]
  },
  {
   "cell_type": "markdown",
   "metadata": {},
   "source": [
    "### W8A8"
   ]
  },
  {
   "cell_type": "code",
   "execution_count": null,
   "metadata": {},
   "outputs": [],
   "source": [
    "net_onnx_path = f'/workspace/finn/train_out/trained_net_W8A8_a5.onnx'\n",
    "out_dir = f\"./onnx_W8A8_a5\"\n",
    "#Delete previous run results if exist\n",
    "if os.path.exists(out_dir):\n",
    "    shutil.rmtree(out_dir)\n",
    "    print(\"Previous run results deleted!\")\n",
    "\n",
    "cfg_build = DataflowBuildConfig(auto_fifo_depths=auto_fifo_depths, \n",
    "                                board=board,\n",
    "                                fpga_part=fpga_part, \n",
    "                                mvau_wwidth_max=mvau_wwidth_max,\n",
    "                                synth_clk_period_ns= clk_ns, \n",
    "                                target_fps=target_fps,\n",
    "                                output_dir=out_dir,\n",
    "                                shell_flow_type=build_cfg.ShellFlowType.VIVADO_ZYNQ,\n",
    "                                generate_outputs=[build_cfg.DataflowOutputType.BITFILE,\n",
    "                                                  build_cfg.DataflowOutputType.PYNQ_DRIVER,\n",
    "                                                  build_cfg.DataflowOutputType.DEPLOYMENT_PACKAGE])\n",
    "build_dataflow_cfg(net_onnx_path, cfg_build)"
   ]
  },
  {
   "cell_type": "markdown",
   "metadata": {},
   "source": [
    "## Deploy"
   ]
  },
  {
   "cell_type": "code",
   "execution_count": null,
   "metadata": {},
   "outputs": [],
   "source": [
    "! cp {testset_dir}testset_images.npz {out_dir}/deploy/driver\n",
    "! cp {testset_dir}testset_labels.txt {out_dir}/deploy/driver\n",
    "! cp {validate_py} {out_dir}/deploy/driver\n",
    "shutil.make_archive('deploy-on-pynq', 'zip', out_dir+\"/deploy\")\n",
    "\n",
    "\n",
    "ip = os.getenv(\"PYNQ_IP\", \"128.131.80.208\")\n",
    "username = os.getenv(\"PYNQ_USERNAME\", \"xilinx\")\n",
    "password = os.getenv(\"PYNQ_PASSWORD\", \"xilinx\")\n",
    "port = os.getenv(\"PYNQ_PORT\", 22)\n",
    "target_dir = os.getenv(\"PYNQ_TARGET_DIR\", \"/home/xilinx/zcu102\")\n",
    "options = \"-o PreferredAuthentications=publickey -o PasswordAuthentication=no\"\n",
    "\n",
    "# ! ssh "
   ]
  }
 ],
 "metadata": {
  "interpreter": {
   "hash": "ed3c3c042c7159f453cb0b4f2ad1cdbcb01beb1ec4544025c53e7eb3664cf9f0"
  },
  "kernelspec": {
   "display_name": "Python 3",
   "language": "python",
   "name": "python3"
  },
  "language_info": {
   "codemirror_mode": {
    "name": "ipython",
    "version": 3
   },
   "file_extension": ".py",
   "mimetype": "text/x-python",
   "name": "python",
   "nbconvert_exporter": "python",
   "pygments_lexer": "ipython3",
   "version": "3.8.5"
  }
 },
 "nbformat": 4,
 "nbformat_minor": 2
}
