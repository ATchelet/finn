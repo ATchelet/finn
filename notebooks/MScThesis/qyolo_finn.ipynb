{
 "cells": [
  {
   "cell_type": "markdown",
   "metadata": {},
   "source": [
    "# Imports"
   ]
  },
  {
   "cell_type": "code",
   "execution_count": null,
   "metadata": {},
   "outputs": [],
   "source": [
    "import os\n",
    "import shutil\n",
    "import numpy as np\n",
    "import torch\n",
    "from qYOLO.qyolo import QTinyYOLOv2, YOLOout, readAnchors"
   ]
  },
  {
   "cell_type": "markdown",
   "metadata": {},
   "source": [
    "# Import Network"
   ]
  },
  {
   "cell_type": "markdown",
   "metadata": {},
   "source": [
    "> pretrained = True<br>\n",
    "img_dir = \"./../../Dataset/images\"<br>\n",
    "lbl_dir = \"./../../Dataset/labels\"<br>\n",
    "weight_bit_width = 8<br>\n",
    "act_bit_width    = 8<br>\n",
    "n_anchors        = 5<br>\n",
    "n_epochs         = 10<br>\n",
    "batch_size       = 10<br>\n",
    "\n",
    "> net = QTinyYOLOv2(n_anchors, weight_bit_width, act_bit_width)<br>\n",
    "if pretrained:<br>\n",
    "    net_path = f\"./train_out/trained_net_W{weight_bit_width}A{act_bit_width}_a{n_anchors}.pth\"<br>\n",
    "    net.load_state_dict(torch.load(net_path))<br>\n",
    "    anchors_path = f\"./anchors_W{weight_bit_width}A{act_bit_width}_a{n_anchors}.txt\"<br>\n",
    "    anchors = torch.zeros((n_anchors, 2))<br>\n",
    "    with open(anchors_path) as f:<br>\n",
    "        for n, data in enumerate(f.readlines()):<br>\n",
    "            anchors[n] = torch.from_numpy(np.array(data.split(',')).astype(float))<br>\n",
    "        f.close()<br>\n",
    "else:<br>\n",
    "    net, anchors = train(img_dir, lbl_dir, weight_bit_width=weight_bit_width, act_bit_width=act_bit_width, n_anchors=n_anchors, n_epochs=n_epochs, batch_size=batch_size)"
   ]
  },
  {
   "cell_type": "code",
   "execution_count": null,
   "metadata": {},
   "outputs": [],
   "source": [
    "img_dir = \"./../../Dataset/images\"\n",
    "lbl_dir = \"./../../Dataset/labels\"\n",
    "weight_bit_width = 8\n",
    "act_bit_width    = 8\n",
    "n_anchors        = 5\n",
    "n_epochs         = 10\n",
    "batch_size       = 1\n",
    "\n",
    "anchors = readAnchors(f'./../../train_out/anchors_W8A8_a5.txt')\n",
    "print(anchors)\n",
    "net = QTinyYOLOv2(n_anchors, weight_bit_width, act_bit_width)\n",
    "net_path = f'./../../train_out/trained_net_W8A8_a5.pth'\n",
    "net.load_state_dict(torch.load(net_path))"
   ]
  },
  {
   "cell_type": "markdown",
   "metadata": {},
   "source": [
    "# FINN"
   ]
  },
  {
   "cell_type": "markdown",
   "metadata": {},
   "source": [
    "## Imports"
   ]
  },
  {
   "cell_type": "code",
   "execution_count": null,
   "metadata": {},
   "outputs": [],
   "source": [
    "# FINN-Brevitas imports\n",
    "from brevitas.onnx import export_finn_onnx as exportONNX\n",
    "# from brevitas.onnx import export_brevitas_onnx as exportONNX\n",
    "\n",
    "from brevitas.export.onnx.generic.manager import BrevitasONNXManager\n",
    "\n",
    "# ONNX libraries\n",
    "import onnx\n",
    "import onnx.numpy_helper as nph\n",
    "import onnxruntime as rt\n",
    "\n",
    "# Network display methods - Netron\n",
    "from finn.util.visualization import showInNetron\n",
    "\n",
    "# FINN Network Preperation imports\n",
    "from finn.core.modelwrapper import ModelWrapper\n",
    "from finn.core.datatype import DataType\n",
    "from qonnx.util.cleanup import cleanup_model\n",
    "from finn.util.pytorch import ToTensor\n",
    "from finn.transformation.qonnx.convert_qonnx_to_finn import ConvertQONNXtoFINN\n",
    "from finn.transformation.merge_onnx_models import MergeONNXModels\n",
    "from finn.transformation.streamline import Streamline\n",
    "from finn.transformation.streamline.reorder import MoveScalarLinearPastInvariants, MakeMaxPoolNHWC, MoveTransposePastScalarMul, MoveMulPastDWConv\n",
    "from finn.transformation.streamline.absorb import AbsorbTransposeIntoMultiThreshold, AbsorbConsecutiveTransposes, AbsorbSignBiasIntoMultiThreshold, AbsorbMulIntoMultiThreshold\n",
    "from finn.transformation.general import ConvertDivToMul, RemoveUnusedTensors\n",
    "from finn.transformation.lower_convs_to_matmul import LowerConvsToMatMul\n",
    "from finn.transformation.infer_data_layouts import InferDataLayouts\n",
    "from finn.transformation.make_input_chanlast import MakeInputChannelsLast\n",
    "from finn.transformation.fpgadataflow.convert_to_hls_layers import InferThresholdingLayer, InferConvInpGen, InferChannelwiseLinearLayer, InferStreamingMaxPool, InferQuantizedStreamingFCLayer\n",
    "from finn.transformation.fpgadataflow.create_dataflow_partition import CreateDataflowPartition\n",
    "from finn.custom_op.registry import getCustomOp\n",
    "\n",
    "from finn.builder.build_dataflow import DataflowBuildConfig, build_dataflow_cfg\n",
    "import finn.builder.build_dataflow_config as build_cfg\n",
    "from finn.transformation.fpgadataflow.make_zynq_proj import ZynqBuild"
   ]
  },
  {
   "cell_type": "markdown",
   "metadata": {},
   "source": [
    "## Brevitas Export"
   ]
  },
  {
   "cell_type": "code",
   "execution_count": null,
   "metadata": {},
   "outputs": [],
   "source": [
    "onnx_dir = f'./onnx_W{weight_bit_width}A{act_bit_width}_a{n_anchors}/'\n",
    "os.makedirs(onnx_dir, exist_ok=True)\n",
    "\n",
    "exportONNX(net, (1, 3, 640, 640), onnx_dir + \"og_net.onnx\")\n",
    "net_onnx_path = f'./../../train_out/trained_net_W8A8_a5.onnx'\n",
    "\n",
    "model = ModelWrapper(onnx_dir + \"og_net.onnx\")\n",
    "# model = ModelWrapper(net_onnx_path)\n",
    "model = cleanup_model(model)\n",
    "model = model.transform(ConvertQONNXtoFINN())\n",
    "\n",
    "model.save(onnx_dir + \"tidy_net.onnx\")\n",
    "showInNetron(onnx_dir + \"tidy_net.onnx\")"
   ]
  },
  {
   "cell_type": "markdown",
   "metadata": {},
   "source": [
    "## Networks Preperation"
   ]
  },
  {
   "cell_type": "markdown",
   "metadata": {},
   "source": [
    "### Add Pre/Post-Processing"
   ]
  },
  {
   "cell_type": "code",
   "execution_count": null,
   "metadata": {},
   "outputs": [],
   "source": [
    "model = ModelWrapper(onnx_dir + \"tidy_net.onnx\")\n",
    "\n",
    "# pre-processing\n",
    "in_name = model.graph.input[0].name\n",
    "in_shape = model.get_tensor_shape(in_name)\n",
    "totensor = ToTensor()\n",
    "exportONNX(totensor, in_shape, onnx_dir + \"preproc_net.onnx\")\n",
    "pre_model = ModelWrapper(onnx_dir + \"preproc_net.onnx\")\n",
    "model = model.transform(MergeONNXModels(pre_model))\n",
    "in_name = model.graph.input[0].name\n",
    "model.set_tensor_datatype(in_name, DataType[\"UINT8\"])\n",
    "\n",
    "# post-processing\n",
    "# TODO - check if I can actually create the output layer\n",
    "model = cleanup_model(model)\n",
    "model = model.transform(ConvertQONNXtoFINN())\n",
    "\n",
    "model.save(onnx_dir + \"preproc_net.onnx\")\n",
    "showInNetron(onnx_dir + \"preproc_net.onnx\")"
   ]
  },
  {
   "cell_type": "markdown",
   "metadata": {},
   "source": [
    "### Streamline"
   ]
  },
  {
   "cell_type": "code",
   "execution_count": null,
   "metadata": {},
   "outputs": [],
   "source": [
    "model = ModelWrapper(onnx_dir + \"preproc_net.onnx\")\n",
    "\n",
    "model = model.transform(MakeInputChannelsLast())\n",
    "model = model.transform(MoveScalarLinearPastInvariants())\n",
    "model = model.transform(Streamline())\n",
    "model = model.transform(LowerConvsToMatMul())\n",
    "model = model.transform(MakeMaxPoolNHWC()) \n",
    "model = model.transform(AbsorbTransposeIntoMultiThreshold())\n",
    "model = model.transform(AbsorbConsecutiveTransposes())\n",
    "\n",
    "model = model.transform(Streamline())\n",
    "model = model.transform(InferDataLayouts())\n",
    "model = model.transform(RemoveUnusedTensors())\n",
    "model = cleanup_model(model)\n",
    "\n",
    "model.save(onnx_dir + \"streamline_net.onnx\")\n",
    "showInNetron(onnx_dir + \"streamline_net.onnx\")"
   ]
  },
  {
   "cell_type": "markdown",
   "metadata": {},
   "source": [
    "### Convert to HLS"
   ]
  },
  {
   "cell_type": "code",
   "execution_count": null,
   "metadata": {},
   "outputs": [],
   "source": [
    "model = ModelWrapper(onnx_dir + \"streamline_net.onnx\")\n",
    "\n",
    "model = model.transform(InferConvInpGen())\n",
    "model = model.transform(InferQuantizedStreamingFCLayer())\n",
    "model = model.transform(InferStreamingMaxPool())\n",
    "model = model.transform(InferThresholdingLayer())\n",
    "model = cleanup_model(model)\n",
    "\n",
    "model.save(onnx_dir + \"hls_net.onnx\")\n",
    "showInNetron(onnx_dir + \"hls_net.onnx\")"
   ]
  },
  {
   "cell_type": "markdown",
   "metadata": {},
   "source": [
    "### Create Dataflow Partition\n",
    "Failed to remove the final mul and transpose layer, so I just remove the during the partition"
   ]
  },
  {
   "cell_type": "code",
   "execution_count": null,
   "metadata": {},
   "outputs": [],
   "source": [
    "model = ModelWrapper(onnx_dir + \"hls_net.onnx\")\n",
    "\n",
    "parent_model = model.transform(CreateDataflowPartition())\n",
    "\n",
    "parent_model.save(onnx_dir + \"parent_net.onnx\")\n",
    "showInNetron(onnx_dir + \"parent_net.onnx\")"
   ]
  },
  {
   "cell_type": "code",
   "execution_count": null,
   "metadata": {},
   "outputs": [],
   "source": [
    "parent_model = ModelWrapper(onnx_dir + \"parent_net.onnx\")\n",
    "\n",
    "sdp_node = parent_model.get_nodes_by_op_type(\"StreamingDataflowPartition\")[0]\n",
    "sdp_node = getCustomOp(sdp_node)\n",
    "model_filename = sdp_node.get_nodeattr(\"model\")\n",
    "model = ModelWrapper(model_filename)\n",
    "model.rename_tensor(model.get_all_tensor_names()[-1], \"global_out\")\n",
    "model = cleanup_model(model)\n",
    "\n",
    "model.save(onnx_dir + \"dataflow_net.onnx\")\n",
    "showInNetron(onnx_dir + \"dataflow_net.onnx\")"
   ]
  },
  {
   "cell_type": "markdown",
   "metadata": {},
   "source": [
    "### Folding"
   ]
  },
  {
   "cell_type": "code",
   "execution_count": null,
   "metadata": {
    "scrolled": false
   },
   "outputs": [],
   "source": [
    "model = ModelWrapper(onnx_dir + \"dataflow_net.onnx\")\n",
    "layers = model.get_finn_nodes()\n",
    "names = model.get_all_tensor_names()\n",
    "\n",
    "for i, layer in enumerate(layers):\n",
    "    temp_op = getCustomOp(layer)\n",
    "    print(f\"CustomOp wrapper of {layer.name}:\")\n",
    "    for item in temp_op.get_nodeattr_types():\n",
    "        print(f\"{item}: {temp_op.get_nodeattr_types()[item]} = {temp_op.get_nodeattr(item)}\")\n",
    "    print()"
   ]
  },
  {
   "cell_type": "code",
   "execution_count": null,
   "metadata": {},
   "outputs": [],
   "source": [
    "model = ModelWrapper(onnx_dir + \"dataflow_net.onnx\")\n",
    "\n",
    "\n",
    "model.save(onnx_dir + \"folded_net.onnx\")\n",
    "showInNetron(onnx_dir + \"folded_net.onnx\")"
   ]
  },
  {
   "cell_type": "markdown",
   "metadata": {},
   "source": [
    "# Hardware Build and Deployment"
   ]
  },
  {
   "cell_type": "markdown",
   "metadata": {},
   "source": [
    "## Build Configurations"
   ]
  },
  {
   "cell_type": "code",
   "execution_count": null,
   "metadata": {},
   "outputs": [],
   "source": [
    "out_dir = onnx_dir + \"hw_out\"\n",
    "#Delete previous run results if exist\n",
    "if os.path.exists(out_dir):\n",
    "    shutil.rmtree(out_dir)\n",
    "    print(\"Previous run results deleted!\")\n",
    "\n",
    "cfg_estimates = DataflowBuildConfig(auto_fifo_depths= True, board=\"ZCU102\", default_mem_mode='constant',\n",
    "                                    output_dir=out_dir, synth_clk_period_ns= 10.0, target_fps=50,\n",
    "                                    steps=build_cfg.estimate_only_dataflow_steps,\n",
    "                                    generate_outputs=[build_cfg.DataflowOutputType.ESTIMATE_REPORTS])\n",
    "\n",
    "# cfg = DataflowBuildConfig(auto_fifo_depths= True, board=\"ZCU102\", default_mem_mode= 'decoupled',\n",
    "#                           output_dir=out_dir, synth_clk_period_ns= 10.0, target_fps=50,\n",
    "#                           steps=build_cfg.estimate_only_dataflow_steps,\n",
    "#                           build_cfg.DataflowOutputType.ESTIMATE_REPORTS)"
   ]
  },
  {
   "cell_type": "markdown",
   "metadata": {},
   "source": [
    "## Build"
   ]
  },
  {
   "cell_type": "code",
   "execution_count": null,
   "metadata": {},
   "outputs": [],
   "source": [
    "model = ModelWrapper(onnx_dir + \"folded_net.onnx\")\n",
    "\n",
    "build_dataflow_cfg(onnx_dir + \"folded_net.onnx\", cfg_estimates)\n",
    "\n",
    "# model = model.transform(ZynqBuild(platform = \"ZCU102\", period_ns = 10))\n",
    "# model.save(onnx_dir + \"hw_net.onnx\")"
   ]
  },
  {
   "cell_type": "code",
   "execution_count": null,
   "metadata": {},
   "outputs": [],
   "source": []
  }
 ],
 "metadata": {
  "interpreter": {
   "hash": "ed3c3c042c7159f453cb0b4f2ad1cdbcb01beb1ec4544025c53e7eb3664cf9f0"
  },
  "kernelspec": {
   "display_name": "Python 3",
   "language": "python",
   "name": "python3"
  },
  "language_info": {
   "codemirror_mode": {
    "name": "ipython",
    "version": 3
   },
   "file_extension": ".py",
   "mimetype": "text/x-python",
   "name": "python",
   "nbconvert_exporter": "python",
   "pygments_lexer": "ipython3",
   "version": "3.8.5"
  }
 },
 "nbformat": 4,
 "nbformat_minor": 2
}
