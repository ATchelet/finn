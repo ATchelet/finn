{
 "cells": [
  {
   "cell_type": "code",
   "execution_count": 1,
   "metadata": {},
   "outputs": [],
   "source": [
    "import torch\n",
    "from qYOLO.module import QTinyYOLOv2\n",
    "from qYOLO.train import train, YOLOout"
   ]
  }
 ],
 "metadata": {
  "interpreter": {
   "hash": "ed3c3c042c7159f453cb0b4f2ad1cdbcb01beb1ec4544025c53e7eb3664cf9f0"
  },
  "kernelspec": {
   "display_name": "Python 3",
   "language": "python",
   "name": "python3"
  },
  "language_info": {
   "codemirror_mode": {
    "name": "ipython",
    "version": 3
   },
   "file_extension": ".py",
   "mimetype": "text/x-python",
   "name": "python",
   "nbconvert_exporter": "python",
   "pygments_lexer": "ipython3",
   "version": "3.8.5"
  }
 },
 "nbformat": 4,
 "nbformat_minor": 2
}
